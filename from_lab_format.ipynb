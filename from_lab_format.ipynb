{
  "nbformat": 4,
  "nbformat_minor": 0,
  "metadata": {
    "colab": {
      "provenance": []
    },
    "kernelspec": {
      "name": "python3",
      "display_name": "Python 3"
    },
    "language_info": {
      "name": "python"
    }
  },
  "cells": [
    {
      "cell_type": "markdown",
      "source": [
        "# Convert From The CDALab Format\n",
        "This notebook is for internal use in our lab.\n",
        "\n",
        "The data frame of the heterogeneous multivariate temporal data contains the variable ids and their values for each time point series at different timestamps.\n",
        "\n",
        "The class of each series is represented by the variable id -1 and variable value of 1 or 0.\n",
        "If the class is 1, an event of interest is created at the end of the entity.\n",
        "Please, note that is not always correct to convert the class to an event of interest, only if the class represents an event that occurs at the end of the entity. \n",
        "\n",
        "**Input -** \n",
        "\n",
        "*INPUT_TEMPORAL_DB* contains the heterogeneous multivariate temporal data with these columns:\n",
        "\n",
        "*   'EntityID' - series is the same as the entity\n",
        "*   'TemporalPropertyID' - variable id \n",
        "*   'TimeStamp' - time \n",
        "*   'TemporalPropertyValue' - variable value\n",
        "\n",
        "**Output -** \n",
        "\n",
        "*   *FINAL_INTERVAL_TRAIN* - contains a training set with STIs\n",
        "*   *FINAL_INTERVAL_TEST* - same, for testing\n",
        "*   *FINAL_KL_TRAIN* - same STIs for TIRPs discovery (the KarmaLego format)\n",
        "*   *FINAL_RAW_TRAIN*  - contains a raw training set\n",
        "*   *FINAL_RAW_TEST* - same, for testing\n",
        "*   *FINAL_CLASS_TRAIN*  - contains the classes for the raw training set\n",
        "*   *FINAL_CLASS_TEST* - same, for testing"
      ],
      "metadata": {
        "id": "OGDsJM1--hi9"
      }
    },
    {
      "cell_type": "markdown",
      "source": [
        "# Import packages"
      ],
      "metadata": {
        "id": "450pEugD4y-F"
      }
    },
    {
      "cell_type": "code",
      "execution_count": 1,
      "metadata": {
        "id": "xlrKXemmtsqM"
      },
      "outputs": [],
      "source": [
        "import pandas as pd\n",
        "import random"
      ]
    },
    {
      "cell_type": "markdown",
      "source": [
        "# CONSTANTS"
      ],
      "metadata": {
        "id": "i89vqPoQA1VC"
      }
    },
    {
      "cell_type": "code",
      "source": [
        "# parameters\n",
        "EVENT_OF_INTEREST_ID = 999.00\n",
        "VAR_ID_FOR_CLASS = -1\n",
        "SYMBOLS_PER_VARIABLE = 3\n",
        "PREC_TO_TRAIN = 0.7\n",
        "\n",
        "# file names\n",
        "INPUT_TEMPORAL_DB = 'het_mul_tmp_conf_data.csv'\n",
        "FINAL_INTERVAL_TRAIN = 'sti_train.csv'\n",
        "FINAL_INTERVAL_TEST = 'sti_test.csv'\n",
        "FINAL_KL_TRAIN = 'to_kl.csv'\n",
        "FINAL_RAW_TRAIN = 'raw_train.csv'\n",
        "FINAL_RAW_TEST = 'raw_test.csv'\n",
        "FINAL_CLASS_TRAIN = 'train_class.csv'\n",
        "FINAL_CLASS_TEST = 'test_class.csv'\n",
        "\n",
        "# column names \n",
        "OLD_ENTITY_COL_NAME = 'EntityID'\n",
        "OLD_TEMPORAL_VAR_ID = 'TemporalPropertyID'\n",
        "OLD_TEMPORAL_VAR_VAL = 'TemporalPropertyValue'\n",
        "ENTITY_COL_NAME = 'SeriesID'\n",
        "TEMPORAL_VAR_ID = 'VarID'\n",
        "TEMPORAL_VAR_VAL = 'VarVal'\n",
        "TIME_COL_NAME = 'TimeStamp'\n",
        "SYMBOL_COL_NAME = 'Symbol'\n",
        "SYMBOL_ID_COL_NAME = 'SymbolID'\n",
        "INTERVAL_START_TIME = 'StartTime'\n",
        "INTERVAL_END_TIME = 'EndTime'\n",
        "CLASS_COL_NAME = 'Class'"
      ],
      "metadata": {
        "id": "4mHuz0cgAL6M"
      },
      "execution_count": 2,
      "outputs": []
    },
    {
      "cell_type": "code",
      "source": [
        "df = pd.read_csv(INPUT_TEMPORAL_DB)\n",
        "print(df.columns)\n",
        "df.rename(columns = {OLD_ENTITY_COL_NAME:ENTITY_COL_NAME,\n",
        "                     OLD_TEMPORAL_VAR_ID:TEMPORAL_VAR_ID,\n",
        "                     OLD_TEMPORAL_VAR_VAL:TEMPORAL_VAR_VAL}, inplace = True)\n",
        "df.head(5)"
      ],
      "metadata": {
        "colab": {
          "base_uri": "https://localhost:8080/",
          "height": 224
        },
        "id": "TEL1tEIvt2Cu",
        "outputId": "d34222a8-c044-49fc-83fa-865c5de00997"
      },
      "execution_count": 3,
      "outputs": [
        {
          "output_type": "stream",
          "name": "stdout",
          "text": [
            "Index(['EntityID', 'TemporalPropertyID', 'TimeStamp', 'TemporalPropertyValue'], dtype='object')\n"
          ]
        },
        {
          "output_type": "execute_result",
          "data": {
            "text/plain": [
              "   SeriesID  VarID  TimeStamp  VarVal\n",
              "0         5     44          6     1.0\n",
              "1         5     44          7     1.0\n",
              "2         5     44          8     1.0\n",
              "3         5     44          9     1.1\n",
              "4         5     44         10     1.1"
            ],
            "text/html": [
              "\n",
              "  <div id=\"df-4018be5e-237d-4c9f-9b9b-c6960bc20361\">\n",
              "    <div class=\"colab-df-container\">\n",
              "      <div>\n",
              "<style scoped>\n",
              "    .dataframe tbody tr th:only-of-type {\n",
              "        vertical-align: middle;\n",
              "    }\n",
              "\n",
              "    .dataframe tbody tr th {\n",
              "        vertical-align: top;\n",
              "    }\n",
              "\n",
              "    .dataframe thead th {\n",
              "        text-align: right;\n",
              "    }\n",
              "</style>\n",
              "<table border=\"1\" class=\"dataframe\">\n",
              "  <thead>\n",
              "    <tr style=\"text-align: right;\">\n",
              "      <th></th>\n",
              "      <th>SeriesID</th>\n",
              "      <th>VarID</th>\n",
              "      <th>TimeStamp</th>\n",
              "      <th>VarVal</th>\n",
              "    </tr>\n",
              "  </thead>\n",
              "  <tbody>\n",
              "    <tr>\n",
              "      <th>0</th>\n",
              "      <td>5</td>\n",
              "      <td>44</td>\n",
              "      <td>6</td>\n",
              "      <td>1.0</td>\n",
              "    </tr>\n",
              "    <tr>\n",
              "      <th>1</th>\n",
              "      <td>5</td>\n",
              "      <td>44</td>\n",
              "      <td>7</td>\n",
              "      <td>1.0</td>\n",
              "    </tr>\n",
              "    <tr>\n",
              "      <th>2</th>\n",
              "      <td>5</td>\n",
              "      <td>44</td>\n",
              "      <td>8</td>\n",
              "      <td>1.0</td>\n",
              "    </tr>\n",
              "    <tr>\n",
              "      <th>3</th>\n",
              "      <td>5</td>\n",
              "      <td>44</td>\n",
              "      <td>9</td>\n",
              "      <td>1.1</td>\n",
              "    </tr>\n",
              "    <tr>\n",
              "      <th>4</th>\n",
              "      <td>5</td>\n",
              "      <td>44</td>\n",
              "      <td>10</td>\n",
              "      <td>1.1</td>\n",
              "    </tr>\n",
              "  </tbody>\n",
              "</table>\n",
              "</div>\n",
              "      <button class=\"colab-df-convert\" onclick=\"convertToInteractive('df-4018be5e-237d-4c9f-9b9b-c6960bc20361')\"\n",
              "              title=\"Convert this dataframe to an interactive table.\"\n",
              "              style=\"display:none;\">\n",
              "        \n",
              "  <svg xmlns=\"http://www.w3.org/2000/svg\" height=\"24px\"viewBox=\"0 0 24 24\"\n",
              "       width=\"24px\">\n",
              "    <path d=\"M0 0h24v24H0V0z\" fill=\"none\"/>\n",
              "    <path d=\"M18.56 5.44l.94 2.06.94-2.06 2.06-.94-2.06-.94-.94-2.06-.94 2.06-2.06.94zm-11 1L8.5 8.5l.94-2.06 2.06-.94-2.06-.94L8.5 2.5l-.94 2.06-2.06.94zm10 10l.94 2.06.94-2.06 2.06-.94-2.06-.94-.94-2.06-.94 2.06-2.06.94z\"/><path d=\"M17.41 7.96l-1.37-1.37c-.4-.4-.92-.59-1.43-.59-.52 0-1.04.2-1.43.59L10.3 9.45l-7.72 7.72c-.78.78-.78 2.05 0 2.83L4 21.41c.39.39.9.59 1.41.59.51 0 1.02-.2 1.41-.59l7.78-7.78 2.81-2.81c.8-.78.8-2.07 0-2.86zM5.41 20L4 18.59l7.72-7.72 1.47 1.35L5.41 20z\"/>\n",
              "  </svg>\n",
              "      </button>\n",
              "      \n",
              "  <style>\n",
              "    .colab-df-container {\n",
              "      display:flex;\n",
              "      flex-wrap:wrap;\n",
              "      gap: 12px;\n",
              "    }\n",
              "\n",
              "    .colab-df-convert {\n",
              "      background-color: #E8F0FE;\n",
              "      border: none;\n",
              "      border-radius: 50%;\n",
              "      cursor: pointer;\n",
              "      display: none;\n",
              "      fill: #1967D2;\n",
              "      height: 32px;\n",
              "      padding: 0 0 0 0;\n",
              "      width: 32px;\n",
              "    }\n",
              "\n",
              "    .colab-df-convert:hover {\n",
              "      background-color: #E2EBFA;\n",
              "      box-shadow: 0px 1px 2px rgba(60, 64, 67, 0.3), 0px 1px 3px 1px rgba(60, 64, 67, 0.15);\n",
              "      fill: #174EA6;\n",
              "    }\n",
              "\n",
              "    [theme=dark] .colab-df-convert {\n",
              "      background-color: #3B4455;\n",
              "      fill: #D2E3FC;\n",
              "    }\n",
              "\n",
              "    [theme=dark] .colab-df-convert:hover {\n",
              "      background-color: #434B5C;\n",
              "      box-shadow: 0px 1px 3px 1px rgba(0, 0, 0, 0.15);\n",
              "      filter: drop-shadow(0px 1px 2px rgba(0, 0, 0, 0.3));\n",
              "      fill: #FFFFFF;\n",
              "    }\n",
              "  </style>\n",
              "\n",
              "      <script>\n",
              "        const buttonEl =\n",
              "          document.querySelector('#df-4018be5e-237d-4c9f-9b9b-c6960bc20361 button.colab-df-convert');\n",
              "        buttonEl.style.display =\n",
              "          google.colab.kernel.accessAllowed ? 'block' : 'none';\n",
              "\n",
              "        async function convertToInteractive(key) {\n",
              "          const element = document.querySelector('#df-4018be5e-237d-4c9f-9b9b-c6960bc20361');\n",
              "          const dataTable =\n",
              "            await google.colab.kernel.invokeFunction('convertToInteractive',\n",
              "                                                     [key], {});\n",
              "          if (!dataTable) return;\n",
              "\n",
              "          const docLinkHtml = 'Like what you see? Visit the ' +\n",
              "            '<a target=\"_blank\" href=https://colab.research.google.com/notebooks/data_table.ipynb>data table notebook</a>'\n",
              "            + ' to learn more about interactive tables.';\n",
              "          element.innerHTML = '';\n",
              "          dataTable['output_type'] = 'display_data';\n",
              "          await google.colab.output.renderOutput(dataTable, element);\n",
              "          const docLink = document.createElement('div');\n",
              "          docLink.innerHTML = docLinkHtml;\n",
              "          element.appendChild(docLink);\n",
              "        }\n",
              "      </script>\n",
              "    </div>\n",
              "  </div>\n",
              "  "
            ]
          },
          "metadata": {},
          "execution_count": 3
        }
      ]
    },
    {
      "cell_type": "code",
      "source": [
        "df.dtypes"
      ],
      "metadata": {
        "colab": {
          "base_uri": "https://localhost:8080/"
        },
        "id": "gi7u27LszngV",
        "outputId": "e18732c4-edac-41b0-d4dc-bc52a5515efd"
      },
      "execution_count": 4,
      "outputs": [
        {
          "output_type": "execute_result",
          "data": {
            "text/plain": [
              "SeriesID       int64\n",
              "VarID          int64\n",
              "TimeStamp      int64\n",
              "VarVal       float64\n",
              "dtype: object"
            ]
          },
          "metadata": {},
          "execution_count": 4
        }
      ]
    },
    {
      "cell_type": "markdown",
      "source": [
        "get all unique series ids"
      ],
      "metadata": {
        "id": "VlLxhww66mIN"
      }
    },
    {
      "cell_type": "code",
      "source": [
        "series_id_set = df[ENTITY_COL_NAME].unique()\n",
        "series_id_set"
      ],
      "metadata": {
        "colab": {
          "base_uri": "https://localhost:8080/"
        },
        "id": "0kiwaOSEumkW",
        "outputId": "a1835b26-942a-4b17-ea90-cae76e59e61a"
      },
      "execution_count": 5,
      "outputs": [
        {
          "output_type": "execute_result",
          "data": {
            "text/plain": [
              "array([   5,    6,    8, ...,  626, 1872, 1297])"
            ]
          },
          "metadata": {},
          "execution_count": 5
        }
      ]
    },
    {
      "cell_type": "markdown",
      "source": [
        "# Create an event and reset the series index\n",
        "This code resets the series indexes. The first one gets 1 the second 2 and so on...\n",
        "\n",
        "This code also takes the class of the series and creates an event at the maximum timestamp + 1\n"
      ],
      "metadata": {
        "id": "gEKtJAsn68qi"
      }
    },
    {
      "cell_type": "code",
      "source": [
        "series_index = 1 # used to reset the series indexes \n",
        "dict_to_df = {\n",
        "  ENTITY_COL_NAME: [],\n",
        "  TEMPORAL_VAR_ID: [],\n",
        "  TIME_COL_NAME: [],\n",
        "  TEMPORAL_VAR_VAL: []\n",
        "}\n",
        "\n",
        "for s_id in series_id_set:  # iterate over the different time point series\n",
        "  seires_df = df[df[ENTITY_COL_NAME]==s_id]  # creates a df for this series\n",
        "  max_ts = seires_df[TIME_COL_NAME].max()  # gets the maximum time stamp\n",
        "\n",
        "  for index, row in seires_df.iterrows():  # iterates over the time points\n",
        "    row_var_id = row[TEMPORAL_VAR_ID]\n",
        "    row_var_val = row[TEMPORAL_VAR_VAL]\n",
        "    if row_var_id == VAR_ID_FOR_CLASS:  # if it's the class variable\n",
        "      if row_var_val == 1.0:  # if the class is positive\n",
        "        dict_to_df[ENTITY_COL_NAME].append(series_index)\n",
        "        dict_to_df[TEMPORAL_VAR_ID].append(EVENT_OF_INTEREST_ID)\n",
        "        dict_to_df[TIME_COL_NAME].append(max_ts+1)\n",
        "        dict_to_df[TEMPORAL_VAR_VAL].append(row[TEMPORAL_VAR_VAL])\n",
        "    else:\n",
        "      dict_to_df[ENTITY_COL_NAME].append(series_index)\n",
        "      dict_to_df[TEMPORAL_VAR_ID].append(row_var_id)\n",
        "      dict_to_df[TIME_COL_NAME].append(row[TIME_COL_NAME])\n",
        "      dict_to_df[TEMPORAL_VAR_VAL].append(row[TEMPORAL_VAR_VAL])\n",
        "\n",
        "  series_index += 1  # increase for the next series (i.e., entity)\n",
        "\n",
        "df_with_event = pd.DataFrame.from_dict(dict_to_df)"
      ],
      "metadata": {
        "id": "1D7XGj_pu08u"
      },
      "execution_count": 6,
      "outputs": []
    },
    {
      "cell_type": "code",
      "source": [
        "df_with_event.head(5)"
      ],
      "metadata": {
        "colab": {
          "base_uri": "https://localhost:8080/",
          "height": 206
        },
        "id": "e8sAQ8j86-eW",
        "outputId": "4b7c2a84-cdb2-4d9d-d656-2d2b0c242ea8"
      },
      "execution_count": 7,
      "outputs": [
        {
          "output_type": "execute_result",
          "data": {
            "text/plain": [
              "   SeriesID  VarID  TimeStamp  VarVal\n",
              "0         1   44.0        6.0     1.0\n",
              "1         1   44.0        7.0     1.0\n",
              "2         1   44.0        8.0     1.0\n",
              "3         1   44.0        9.0     1.1\n",
              "4         1   44.0       10.0     1.1"
            ],
            "text/html": [
              "\n",
              "  <div id=\"df-2d9c177a-b61a-43b6-864d-6e5da6e13e4b\">\n",
              "    <div class=\"colab-df-container\">\n",
              "      <div>\n",
              "<style scoped>\n",
              "    .dataframe tbody tr th:only-of-type {\n",
              "        vertical-align: middle;\n",
              "    }\n",
              "\n",
              "    .dataframe tbody tr th {\n",
              "        vertical-align: top;\n",
              "    }\n",
              "\n",
              "    .dataframe thead th {\n",
              "        text-align: right;\n",
              "    }\n",
              "</style>\n",
              "<table border=\"1\" class=\"dataframe\">\n",
              "  <thead>\n",
              "    <tr style=\"text-align: right;\">\n",
              "      <th></th>\n",
              "      <th>SeriesID</th>\n",
              "      <th>VarID</th>\n",
              "      <th>TimeStamp</th>\n",
              "      <th>VarVal</th>\n",
              "    </tr>\n",
              "  </thead>\n",
              "  <tbody>\n",
              "    <tr>\n",
              "      <th>0</th>\n",
              "      <td>1</td>\n",
              "      <td>44.0</td>\n",
              "      <td>6.0</td>\n",
              "      <td>1.0</td>\n",
              "    </tr>\n",
              "    <tr>\n",
              "      <th>1</th>\n",
              "      <td>1</td>\n",
              "      <td>44.0</td>\n",
              "      <td>7.0</td>\n",
              "      <td>1.0</td>\n",
              "    </tr>\n",
              "    <tr>\n",
              "      <th>2</th>\n",
              "      <td>1</td>\n",
              "      <td>44.0</td>\n",
              "      <td>8.0</td>\n",
              "      <td>1.0</td>\n",
              "    </tr>\n",
              "    <tr>\n",
              "      <th>3</th>\n",
              "      <td>1</td>\n",
              "      <td>44.0</td>\n",
              "      <td>9.0</td>\n",
              "      <td>1.1</td>\n",
              "    </tr>\n",
              "    <tr>\n",
              "      <th>4</th>\n",
              "      <td>1</td>\n",
              "      <td>44.0</td>\n",
              "      <td>10.0</td>\n",
              "      <td>1.1</td>\n",
              "    </tr>\n",
              "  </tbody>\n",
              "</table>\n",
              "</div>\n",
              "      <button class=\"colab-df-convert\" onclick=\"convertToInteractive('df-2d9c177a-b61a-43b6-864d-6e5da6e13e4b')\"\n",
              "              title=\"Convert this dataframe to an interactive table.\"\n",
              "              style=\"display:none;\">\n",
              "        \n",
              "  <svg xmlns=\"http://www.w3.org/2000/svg\" height=\"24px\"viewBox=\"0 0 24 24\"\n",
              "       width=\"24px\">\n",
              "    <path d=\"M0 0h24v24H0V0z\" fill=\"none\"/>\n",
              "    <path d=\"M18.56 5.44l.94 2.06.94-2.06 2.06-.94-2.06-.94-.94-2.06-.94 2.06-2.06.94zm-11 1L8.5 8.5l.94-2.06 2.06-.94-2.06-.94L8.5 2.5l-.94 2.06-2.06.94zm10 10l.94 2.06.94-2.06 2.06-.94-2.06-.94-.94-2.06-.94 2.06-2.06.94z\"/><path d=\"M17.41 7.96l-1.37-1.37c-.4-.4-.92-.59-1.43-.59-.52 0-1.04.2-1.43.59L10.3 9.45l-7.72 7.72c-.78.78-.78 2.05 0 2.83L4 21.41c.39.39.9.59 1.41.59.51 0 1.02-.2 1.41-.59l7.78-7.78 2.81-2.81c.8-.78.8-2.07 0-2.86zM5.41 20L4 18.59l7.72-7.72 1.47 1.35L5.41 20z\"/>\n",
              "  </svg>\n",
              "      </button>\n",
              "      \n",
              "  <style>\n",
              "    .colab-df-container {\n",
              "      display:flex;\n",
              "      flex-wrap:wrap;\n",
              "      gap: 12px;\n",
              "    }\n",
              "\n",
              "    .colab-df-convert {\n",
              "      background-color: #E8F0FE;\n",
              "      border: none;\n",
              "      border-radius: 50%;\n",
              "      cursor: pointer;\n",
              "      display: none;\n",
              "      fill: #1967D2;\n",
              "      height: 32px;\n",
              "      padding: 0 0 0 0;\n",
              "      width: 32px;\n",
              "    }\n",
              "\n",
              "    .colab-df-convert:hover {\n",
              "      background-color: #E2EBFA;\n",
              "      box-shadow: 0px 1px 2px rgba(60, 64, 67, 0.3), 0px 1px 3px 1px rgba(60, 64, 67, 0.15);\n",
              "      fill: #174EA6;\n",
              "    }\n",
              "\n",
              "    [theme=dark] .colab-df-convert {\n",
              "      background-color: #3B4455;\n",
              "      fill: #D2E3FC;\n",
              "    }\n",
              "\n",
              "    [theme=dark] .colab-df-convert:hover {\n",
              "      background-color: #434B5C;\n",
              "      box-shadow: 0px 1px 3px 1px rgba(0, 0, 0, 0.15);\n",
              "      filter: drop-shadow(0px 1px 2px rgba(0, 0, 0, 0.3));\n",
              "      fill: #FFFFFF;\n",
              "    }\n",
              "  </style>\n",
              "\n",
              "      <script>\n",
              "        const buttonEl =\n",
              "          document.querySelector('#df-2d9c177a-b61a-43b6-864d-6e5da6e13e4b button.colab-df-convert');\n",
              "        buttonEl.style.display =\n",
              "          google.colab.kernel.accessAllowed ? 'block' : 'none';\n",
              "\n",
              "        async function convertToInteractive(key) {\n",
              "          const element = document.querySelector('#df-2d9c177a-b61a-43b6-864d-6e5da6e13e4b');\n",
              "          const dataTable =\n",
              "            await google.colab.kernel.invokeFunction('convertToInteractive',\n",
              "                                                     [key], {});\n",
              "          if (!dataTable) return;\n",
              "\n",
              "          const docLinkHtml = 'Like what you see? Visit the ' +\n",
              "            '<a target=\"_blank\" href=https://colab.research.google.com/notebooks/data_table.ipynb>data table notebook</a>'\n",
              "            + ' to learn more about interactive tables.';\n",
              "          element.innerHTML = '';\n",
              "          dataTable['output_type'] = 'display_data';\n",
              "          await google.colab.output.renderOutput(dataTable, element);\n",
              "          const docLink = document.createElement('div');\n",
              "          docLink.innerHTML = docLinkHtml;\n",
              "          element.appendChild(docLink);\n",
              "        }\n",
              "      </script>\n",
              "    </div>\n",
              "  </div>\n",
              "  "
            ]
          },
          "metadata": {},
          "execution_count": 7
        }
      ]
    },
    {
      "cell_type": "markdown",
      "source": [
        "gets all unique variables ids"
      ],
      "metadata": {
        "id": "2COZ1HZc9Z4g"
      }
    },
    {
      "cell_type": "code",
      "source": [
        "var_id_set = df_with_event[TEMPORAL_VAR_ID].unique()\n",
        "var_id_set"
      ],
      "metadata": {
        "colab": {
          "base_uri": "https://localhost:8080/"
        },
        "id": "QZnhgSJN2bI1",
        "outputId": "83e71260-12ec-4f7f-f574-b08c7bb526bd"
      },
      "execution_count": 8,
      "outputs": [
        {
          "output_type": "execute_result",
          "data": {
            "text/plain": [
              "array([ 44.,   1.,   2.,   4.,   5.,   6.,  40.,  41.,  42.,  43.,  39.,\n",
              "         3., 999.])"
            ]
          },
          "metadata": {},
          "execution_count": 8
        }
      ]
    },
    {
      "cell_type": "markdown",
      "source": [
        "# Reset variable ID and State Abstraction with Equal Frequency discretization"
      ],
      "metadata": {
        "id": "TIm-RlEu_wwb"
      }
    },
    {
      "cell_type": "code",
      "source": [
        "var_index = 1\n",
        "symbol_index = 1  # for the symbol id\n",
        "\n",
        "dict_to_df = {\n",
        "  ENTITY_COL_NAME: [],\n",
        "  TEMPORAL_VAR_ID: [],\n",
        "  TIME_COL_NAME: [],\n",
        "  TEMPORAL_VAR_VAL: [],\n",
        "  SYMBOL_COL_NAME: []\n",
        "}\n",
        "\n",
        "for v_id in var_id_set:  # iterate over the temporal variables\n",
        "  var_df = df_with_event[df_with_event[TEMPORAL_VAR_ID]==v_id]   # create df from each variable\n",
        "  if v_id != EVENT_OF_INTEREST_ID:  # state abstraction is not relevant for the event variable\n",
        "    var_df[TEMPORAL_VAR_ID] = var_index\n",
        "    var_index += 1\n",
        "    var_df[SYMBOL_COL_NAME]= pd.qcut(x=var_df[TEMPORAL_VAR_VAL].rank(method='first'), q=SYMBOLS_PER_VARIABLE, labels=[symbol_index,symbol_index+1,symbol_index+2])\n",
        "    symbol_index += SYMBOLS_PER_VARIABLE\n",
        "  \n",
        "  for index, row in var_df.iterrows():  # write the new df with symbols to the dict\n",
        "    row_var_id = row[TEMPORAL_VAR_ID]\n",
        "    row_var_val = row[TEMPORAL_VAR_VAL]\n",
        "    dict_to_df[ENTITY_COL_NAME].append(row[ENTITY_COL_NAME])\n",
        "    dict_to_df[TEMPORAL_VAR_ID].append(row_var_id)\n",
        "    dict_to_df[TIME_COL_NAME].append(row[TIME_COL_NAME])\n",
        "    dict_to_df[TEMPORAL_VAR_VAL].append(row[TEMPORAL_VAR_VAL])\n",
        "    if v_id != EVENT_OF_INTEREST_ID:\n",
        "      dict_to_df[SYMBOL_COL_NAME].append(row[SYMBOL_COL_NAME])\n",
        "    else: \n",
        "      dict_to_df[SYMBOL_COL_NAME].append(EVENT_OF_INTEREST_ID)\n",
        "df_with_symbols = pd.DataFrame.from_dict(dict_to_df)"
      ],
      "metadata": {
        "colab": {
          "base_uri": "https://localhost:8080/"
        },
        "id": "71KdpEyw2hBl",
        "outputId": "44606c59-a5ef-4234-b188-9765788fb542"
      },
      "execution_count": 9,
      "outputs": [
        {
          "output_type": "stream",
          "name": "stderr",
          "text": [
            "<ipython-input-9-08264cfcfe7f>:15: SettingWithCopyWarning: \n",
            "A value is trying to be set on a copy of a slice from a DataFrame.\n",
            "Try using .loc[row_indexer,col_indexer] = value instead\n",
            "\n",
            "See the caveats in the documentation: https://pandas.pydata.org/pandas-docs/stable/user_guide/indexing.html#returning-a-view-versus-a-copy\n",
            "  var_df[TEMPORAL_VAR_ID] = var_index\n",
            "<ipython-input-9-08264cfcfe7f>:17: SettingWithCopyWarning: \n",
            "A value is trying to be set on a copy of a slice from a DataFrame.\n",
            "Try using .loc[row_indexer,col_indexer] = value instead\n",
            "\n",
            "See the caveats in the documentation: https://pandas.pydata.org/pandas-docs/stable/user_guide/indexing.html#returning-a-view-versus-a-copy\n",
            "  var_df[SYMBOL_COL_NAME]= pd.qcut(x=var_df[TEMPORAL_VAR_VAL].rank(method='first'), q=SYMBOLS_PER_VARIABLE, labels=[symbol_index,symbol_index+1,symbol_index+2])\n",
            "<ipython-input-9-08264cfcfe7f>:15: SettingWithCopyWarning: \n",
            "A value is trying to be set on a copy of a slice from a DataFrame.\n",
            "Try using .loc[row_indexer,col_indexer] = value instead\n",
            "\n",
            "See the caveats in the documentation: https://pandas.pydata.org/pandas-docs/stable/user_guide/indexing.html#returning-a-view-versus-a-copy\n",
            "  var_df[TEMPORAL_VAR_ID] = var_index\n",
            "<ipython-input-9-08264cfcfe7f>:17: SettingWithCopyWarning: \n",
            "A value is trying to be set on a copy of a slice from a DataFrame.\n",
            "Try using .loc[row_indexer,col_indexer] = value instead\n",
            "\n",
            "See the caveats in the documentation: https://pandas.pydata.org/pandas-docs/stable/user_guide/indexing.html#returning-a-view-versus-a-copy\n",
            "  var_df[SYMBOL_COL_NAME]= pd.qcut(x=var_df[TEMPORAL_VAR_VAL].rank(method='first'), q=SYMBOLS_PER_VARIABLE, labels=[symbol_index,symbol_index+1,symbol_index+2])\n",
            "<ipython-input-9-08264cfcfe7f>:15: SettingWithCopyWarning: \n",
            "A value is trying to be set on a copy of a slice from a DataFrame.\n",
            "Try using .loc[row_indexer,col_indexer] = value instead\n",
            "\n",
            "See the caveats in the documentation: https://pandas.pydata.org/pandas-docs/stable/user_guide/indexing.html#returning-a-view-versus-a-copy\n",
            "  var_df[TEMPORAL_VAR_ID] = var_index\n",
            "<ipython-input-9-08264cfcfe7f>:17: SettingWithCopyWarning: \n",
            "A value is trying to be set on a copy of a slice from a DataFrame.\n",
            "Try using .loc[row_indexer,col_indexer] = value instead\n",
            "\n",
            "See the caveats in the documentation: https://pandas.pydata.org/pandas-docs/stable/user_guide/indexing.html#returning-a-view-versus-a-copy\n",
            "  var_df[SYMBOL_COL_NAME]= pd.qcut(x=var_df[TEMPORAL_VAR_VAL].rank(method='first'), q=SYMBOLS_PER_VARIABLE, labels=[symbol_index,symbol_index+1,symbol_index+2])\n",
            "<ipython-input-9-08264cfcfe7f>:15: SettingWithCopyWarning: \n",
            "A value is trying to be set on a copy of a slice from a DataFrame.\n",
            "Try using .loc[row_indexer,col_indexer] = value instead\n",
            "\n",
            "See the caveats in the documentation: https://pandas.pydata.org/pandas-docs/stable/user_guide/indexing.html#returning-a-view-versus-a-copy\n",
            "  var_df[TEMPORAL_VAR_ID] = var_index\n",
            "<ipython-input-9-08264cfcfe7f>:17: SettingWithCopyWarning: \n",
            "A value is trying to be set on a copy of a slice from a DataFrame.\n",
            "Try using .loc[row_indexer,col_indexer] = value instead\n",
            "\n",
            "See the caveats in the documentation: https://pandas.pydata.org/pandas-docs/stable/user_guide/indexing.html#returning-a-view-versus-a-copy\n",
            "  var_df[SYMBOL_COL_NAME]= pd.qcut(x=var_df[TEMPORAL_VAR_VAL].rank(method='first'), q=SYMBOLS_PER_VARIABLE, labels=[symbol_index,symbol_index+1,symbol_index+2])\n",
            "<ipython-input-9-08264cfcfe7f>:15: SettingWithCopyWarning: \n",
            "A value is trying to be set on a copy of a slice from a DataFrame.\n",
            "Try using .loc[row_indexer,col_indexer] = value instead\n",
            "\n",
            "See the caveats in the documentation: https://pandas.pydata.org/pandas-docs/stable/user_guide/indexing.html#returning-a-view-versus-a-copy\n",
            "  var_df[TEMPORAL_VAR_ID] = var_index\n",
            "<ipython-input-9-08264cfcfe7f>:17: SettingWithCopyWarning: \n",
            "A value is trying to be set on a copy of a slice from a DataFrame.\n",
            "Try using .loc[row_indexer,col_indexer] = value instead\n",
            "\n",
            "See the caveats in the documentation: https://pandas.pydata.org/pandas-docs/stable/user_guide/indexing.html#returning-a-view-versus-a-copy\n",
            "  var_df[SYMBOL_COL_NAME]= pd.qcut(x=var_df[TEMPORAL_VAR_VAL].rank(method='first'), q=SYMBOLS_PER_VARIABLE, labels=[symbol_index,symbol_index+1,symbol_index+2])\n",
            "<ipython-input-9-08264cfcfe7f>:15: SettingWithCopyWarning: \n",
            "A value is trying to be set on a copy of a slice from a DataFrame.\n",
            "Try using .loc[row_indexer,col_indexer] = value instead\n",
            "\n",
            "See the caveats in the documentation: https://pandas.pydata.org/pandas-docs/stable/user_guide/indexing.html#returning-a-view-versus-a-copy\n",
            "  var_df[TEMPORAL_VAR_ID] = var_index\n",
            "<ipython-input-9-08264cfcfe7f>:17: SettingWithCopyWarning: \n",
            "A value is trying to be set on a copy of a slice from a DataFrame.\n",
            "Try using .loc[row_indexer,col_indexer] = value instead\n",
            "\n",
            "See the caveats in the documentation: https://pandas.pydata.org/pandas-docs/stable/user_guide/indexing.html#returning-a-view-versus-a-copy\n",
            "  var_df[SYMBOL_COL_NAME]= pd.qcut(x=var_df[TEMPORAL_VAR_VAL].rank(method='first'), q=SYMBOLS_PER_VARIABLE, labels=[symbol_index,symbol_index+1,symbol_index+2])\n",
            "<ipython-input-9-08264cfcfe7f>:15: SettingWithCopyWarning: \n",
            "A value is trying to be set on a copy of a slice from a DataFrame.\n",
            "Try using .loc[row_indexer,col_indexer] = value instead\n",
            "\n",
            "See the caveats in the documentation: https://pandas.pydata.org/pandas-docs/stable/user_guide/indexing.html#returning-a-view-versus-a-copy\n",
            "  var_df[TEMPORAL_VAR_ID] = var_index\n",
            "<ipython-input-9-08264cfcfe7f>:17: SettingWithCopyWarning: \n",
            "A value is trying to be set on a copy of a slice from a DataFrame.\n",
            "Try using .loc[row_indexer,col_indexer] = value instead\n",
            "\n",
            "See the caveats in the documentation: https://pandas.pydata.org/pandas-docs/stable/user_guide/indexing.html#returning-a-view-versus-a-copy\n",
            "  var_df[SYMBOL_COL_NAME]= pd.qcut(x=var_df[TEMPORAL_VAR_VAL].rank(method='first'), q=SYMBOLS_PER_VARIABLE, labels=[symbol_index,symbol_index+1,symbol_index+2])\n",
            "<ipython-input-9-08264cfcfe7f>:15: SettingWithCopyWarning: \n",
            "A value is trying to be set on a copy of a slice from a DataFrame.\n",
            "Try using .loc[row_indexer,col_indexer] = value instead\n",
            "\n",
            "See the caveats in the documentation: https://pandas.pydata.org/pandas-docs/stable/user_guide/indexing.html#returning-a-view-versus-a-copy\n",
            "  var_df[TEMPORAL_VAR_ID] = var_index\n",
            "<ipython-input-9-08264cfcfe7f>:17: SettingWithCopyWarning: \n",
            "A value is trying to be set on a copy of a slice from a DataFrame.\n",
            "Try using .loc[row_indexer,col_indexer] = value instead\n",
            "\n",
            "See the caveats in the documentation: https://pandas.pydata.org/pandas-docs/stable/user_guide/indexing.html#returning-a-view-versus-a-copy\n",
            "  var_df[SYMBOL_COL_NAME]= pd.qcut(x=var_df[TEMPORAL_VAR_VAL].rank(method='first'), q=SYMBOLS_PER_VARIABLE, labels=[symbol_index,symbol_index+1,symbol_index+2])\n",
            "<ipython-input-9-08264cfcfe7f>:15: SettingWithCopyWarning: \n",
            "A value is trying to be set on a copy of a slice from a DataFrame.\n",
            "Try using .loc[row_indexer,col_indexer] = value instead\n",
            "\n",
            "See the caveats in the documentation: https://pandas.pydata.org/pandas-docs/stable/user_guide/indexing.html#returning-a-view-versus-a-copy\n",
            "  var_df[TEMPORAL_VAR_ID] = var_index\n",
            "<ipython-input-9-08264cfcfe7f>:17: SettingWithCopyWarning: \n",
            "A value is trying to be set on a copy of a slice from a DataFrame.\n",
            "Try using .loc[row_indexer,col_indexer] = value instead\n",
            "\n",
            "See the caveats in the documentation: https://pandas.pydata.org/pandas-docs/stable/user_guide/indexing.html#returning-a-view-versus-a-copy\n",
            "  var_df[SYMBOL_COL_NAME]= pd.qcut(x=var_df[TEMPORAL_VAR_VAL].rank(method='first'), q=SYMBOLS_PER_VARIABLE, labels=[symbol_index,symbol_index+1,symbol_index+2])\n",
            "<ipython-input-9-08264cfcfe7f>:15: SettingWithCopyWarning: \n",
            "A value is trying to be set on a copy of a slice from a DataFrame.\n",
            "Try using .loc[row_indexer,col_indexer] = value instead\n",
            "\n",
            "See the caveats in the documentation: https://pandas.pydata.org/pandas-docs/stable/user_guide/indexing.html#returning-a-view-versus-a-copy\n",
            "  var_df[TEMPORAL_VAR_ID] = var_index\n",
            "<ipython-input-9-08264cfcfe7f>:17: SettingWithCopyWarning: \n",
            "A value is trying to be set on a copy of a slice from a DataFrame.\n",
            "Try using .loc[row_indexer,col_indexer] = value instead\n",
            "\n",
            "See the caveats in the documentation: https://pandas.pydata.org/pandas-docs/stable/user_guide/indexing.html#returning-a-view-versus-a-copy\n",
            "  var_df[SYMBOL_COL_NAME]= pd.qcut(x=var_df[TEMPORAL_VAR_VAL].rank(method='first'), q=SYMBOLS_PER_VARIABLE, labels=[symbol_index,symbol_index+1,symbol_index+2])\n",
            "<ipython-input-9-08264cfcfe7f>:15: SettingWithCopyWarning: \n",
            "A value is trying to be set on a copy of a slice from a DataFrame.\n",
            "Try using .loc[row_indexer,col_indexer] = value instead\n",
            "\n",
            "See the caveats in the documentation: https://pandas.pydata.org/pandas-docs/stable/user_guide/indexing.html#returning-a-view-versus-a-copy\n",
            "  var_df[TEMPORAL_VAR_ID] = var_index\n",
            "<ipython-input-9-08264cfcfe7f>:17: SettingWithCopyWarning: \n",
            "A value is trying to be set on a copy of a slice from a DataFrame.\n",
            "Try using .loc[row_indexer,col_indexer] = value instead\n",
            "\n",
            "See the caveats in the documentation: https://pandas.pydata.org/pandas-docs/stable/user_guide/indexing.html#returning-a-view-versus-a-copy\n",
            "  var_df[SYMBOL_COL_NAME]= pd.qcut(x=var_df[TEMPORAL_VAR_VAL].rank(method='first'), q=SYMBOLS_PER_VARIABLE, labels=[symbol_index,symbol_index+1,symbol_index+2])\n",
            "<ipython-input-9-08264cfcfe7f>:15: SettingWithCopyWarning: \n",
            "A value is trying to be set on a copy of a slice from a DataFrame.\n",
            "Try using .loc[row_indexer,col_indexer] = value instead\n",
            "\n",
            "See the caveats in the documentation: https://pandas.pydata.org/pandas-docs/stable/user_guide/indexing.html#returning-a-view-versus-a-copy\n",
            "  var_df[TEMPORAL_VAR_ID] = var_index\n",
            "<ipython-input-9-08264cfcfe7f>:17: SettingWithCopyWarning: \n",
            "A value is trying to be set on a copy of a slice from a DataFrame.\n",
            "Try using .loc[row_indexer,col_indexer] = value instead\n",
            "\n",
            "See the caveats in the documentation: https://pandas.pydata.org/pandas-docs/stable/user_guide/indexing.html#returning-a-view-versus-a-copy\n",
            "  var_df[SYMBOL_COL_NAME]= pd.qcut(x=var_df[TEMPORAL_VAR_VAL].rank(method='first'), q=SYMBOLS_PER_VARIABLE, labels=[symbol_index,symbol_index+1,symbol_index+2])\n"
          ]
        }
      ]
    },
    {
      "cell_type": "code",
      "source": [
        "df_with_symbols.head(5)"
      ],
      "metadata": {
        "colab": {
          "base_uri": "https://localhost:8080/",
          "height": 206
        },
        "id": "b-FSZN1oq3OY",
        "outputId": "15bec9af-f511-42f3-a4b0-224d46ec4646"
      },
      "execution_count": 10,
      "outputs": [
        {
          "output_type": "execute_result",
          "data": {
            "text/plain": [
              "   SeriesID  VarID  TimeStamp  VarVal  Symbol\n",
              "0       1.0    1.0        6.0     1.0     3.0\n",
              "1       1.0    1.0        7.0     1.0     3.0\n",
              "2       1.0    1.0        8.0     1.0     3.0\n",
              "3       1.0    1.0        9.0     1.1     3.0\n",
              "4       1.0    1.0       10.0     1.1     3.0"
            ],
            "text/html": [
              "\n",
              "  <div id=\"df-8ea72561-48e4-45bd-b8d6-0764ad09e4b8\">\n",
              "    <div class=\"colab-df-container\">\n",
              "      <div>\n",
              "<style scoped>\n",
              "    .dataframe tbody tr th:only-of-type {\n",
              "        vertical-align: middle;\n",
              "    }\n",
              "\n",
              "    .dataframe tbody tr th {\n",
              "        vertical-align: top;\n",
              "    }\n",
              "\n",
              "    .dataframe thead th {\n",
              "        text-align: right;\n",
              "    }\n",
              "</style>\n",
              "<table border=\"1\" class=\"dataframe\">\n",
              "  <thead>\n",
              "    <tr style=\"text-align: right;\">\n",
              "      <th></th>\n",
              "      <th>SeriesID</th>\n",
              "      <th>VarID</th>\n",
              "      <th>TimeStamp</th>\n",
              "      <th>VarVal</th>\n",
              "      <th>Symbol</th>\n",
              "    </tr>\n",
              "  </thead>\n",
              "  <tbody>\n",
              "    <tr>\n",
              "      <th>0</th>\n",
              "      <td>1.0</td>\n",
              "      <td>1.0</td>\n",
              "      <td>6.0</td>\n",
              "      <td>1.0</td>\n",
              "      <td>3.0</td>\n",
              "    </tr>\n",
              "    <tr>\n",
              "      <th>1</th>\n",
              "      <td>1.0</td>\n",
              "      <td>1.0</td>\n",
              "      <td>7.0</td>\n",
              "      <td>1.0</td>\n",
              "      <td>3.0</td>\n",
              "    </tr>\n",
              "    <tr>\n",
              "      <th>2</th>\n",
              "      <td>1.0</td>\n",
              "      <td>1.0</td>\n",
              "      <td>8.0</td>\n",
              "      <td>1.0</td>\n",
              "      <td>3.0</td>\n",
              "    </tr>\n",
              "    <tr>\n",
              "      <th>3</th>\n",
              "      <td>1.0</td>\n",
              "      <td>1.0</td>\n",
              "      <td>9.0</td>\n",
              "      <td>1.1</td>\n",
              "      <td>3.0</td>\n",
              "    </tr>\n",
              "    <tr>\n",
              "      <th>4</th>\n",
              "      <td>1.0</td>\n",
              "      <td>1.0</td>\n",
              "      <td>10.0</td>\n",
              "      <td>1.1</td>\n",
              "      <td>3.0</td>\n",
              "    </tr>\n",
              "  </tbody>\n",
              "</table>\n",
              "</div>\n",
              "      <button class=\"colab-df-convert\" onclick=\"convertToInteractive('df-8ea72561-48e4-45bd-b8d6-0764ad09e4b8')\"\n",
              "              title=\"Convert this dataframe to an interactive table.\"\n",
              "              style=\"display:none;\">\n",
              "        \n",
              "  <svg xmlns=\"http://www.w3.org/2000/svg\" height=\"24px\"viewBox=\"0 0 24 24\"\n",
              "       width=\"24px\">\n",
              "    <path d=\"M0 0h24v24H0V0z\" fill=\"none\"/>\n",
              "    <path d=\"M18.56 5.44l.94 2.06.94-2.06 2.06-.94-2.06-.94-.94-2.06-.94 2.06-2.06.94zm-11 1L8.5 8.5l.94-2.06 2.06-.94-2.06-.94L8.5 2.5l-.94 2.06-2.06.94zm10 10l.94 2.06.94-2.06 2.06-.94-2.06-.94-.94-2.06-.94 2.06-2.06.94z\"/><path d=\"M17.41 7.96l-1.37-1.37c-.4-.4-.92-.59-1.43-.59-.52 0-1.04.2-1.43.59L10.3 9.45l-7.72 7.72c-.78.78-.78 2.05 0 2.83L4 21.41c.39.39.9.59 1.41.59.51 0 1.02-.2 1.41-.59l7.78-7.78 2.81-2.81c.8-.78.8-2.07 0-2.86zM5.41 20L4 18.59l7.72-7.72 1.47 1.35L5.41 20z\"/>\n",
              "  </svg>\n",
              "      </button>\n",
              "      \n",
              "  <style>\n",
              "    .colab-df-container {\n",
              "      display:flex;\n",
              "      flex-wrap:wrap;\n",
              "      gap: 12px;\n",
              "    }\n",
              "\n",
              "    .colab-df-convert {\n",
              "      background-color: #E8F0FE;\n",
              "      border: none;\n",
              "      border-radius: 50%;\n",
              "      cursor: pointer;\n",
              "      display: none;\n",
              "      fill: #1967D2;\n",
              "      height: 32px;\n",
              "      padding: 0 0 0 0;\n",
              "      width: 32px;\n",
              "    }\n",
              "\n",
              "    .colab-df-convert:hover {\n",
              "      background-color: #E2EBFA;\n",
              "      box-shadow: 0px 1px 2px rgba(60, 64, 67, 0.3), 0px 1px 3px 1px rgba(60, 64, 67, 0.15);\n",
              "      fill: #174EA6;\n",
              "    }\n",
              "\n",
              "    [theme=dark] .colab-df-convert {\n",
              "      background-color: #3B4455;\n",
              "      fill: #D2E3FC;\n",
              "    }\n",
              "\n",
              "    [theme=dark] .colab-df-convert:hover {\n",
              "      background-color: #434B5C;\n",
              "      box-shadow: 0px 1px 3px 1px rgba(0, 0, 0, 0.15);\n",
              "      filter: drop-shadow(0px 1px 2px rgba(0, 0, 0, 0.3));\n",
              "      fill: #FFFFFF;\n",
              "    }\n",
              "  </style>\n",
              "\n",
              "      <script>\n",
              "        const buttonEl =\n",
              "          document.querySelector('#df-8ea72561-48e4-45bd-b8d6-0764ad09e4b8 button.colab-df-convert');\n",
              "        buttonEl.style.display =\n",
              "          google.colab.kernel.accessAllowed ? 'block' : 'none';\n",
              "\n",
              "        async function convertToInteractive(key) {\n",
              "          const element = document.querySelector('#df-8ea72561-48e4-45bd-b8d6-0764ad09e4b8');\n",
              "          const dataTable =\n",
              "            await google.colab.kernel.invokeFunction('convertToInteractive',\n",
              "                                                     [key], {});\n",
              "          if (!dataTable) return;\n",
              "\n",
              "          const docLinkHtml = 'Like what you see? Visit the ' +\n",
              "            '<a target=\"_blank\" href=https://colab.research.google.com/notebooks/data_table.ipynb>data table notebook</a>'\n",
              "            + ' to learn more about interactive tables.';\n",
              "          element.innerHTML = '';\n",
              "          dataTable['output_type'] = 'display_data';\n",
              "          await google.colab.output.renderOutput(dataTable, element);\n",
              "          const docLink = document.createElement('div');\n",
              "          docLink.innerHTML = docLinkHtml;\n",
              "          element.appendChild(docLink);\n",
              "        }\n",
              "      </script>\n",
              "    </div>\n",
              "  </div>\n",
              "  "
            ]
          },
          "metadata": {},
          "execution_count": 10
        }
      ]
    },
    {
      "cell_type": "markdown",
      "source": [
        "# Create Raw Data\n",
        "Standartize the data for each temporal variable and then merge the dataframes"
      ],
      "metadata": {
        "id": "o28NBTNxL9fe"
      }
    },
    {
      "cell_type": "code",
      "source": [
        "var_id_set = df_with_symbols[TEMPORAL_VAR_ID].unique()\n",
        "var_id_set"
      ],
      "metadata": {
        "colab": {
          "base_uri": "https://localhost:8080/"
        },
        "id": "vS1kmqDBti55",
        "outputId": "254c19c4-d515-404a-f84d-888d32174bb1"
      },
      "execution_count": 11,
      "outputs": [
        {
          "output_type": "execute_result",
          "data": {
            "text/plain": [
              "array([  1.,   2.,   3.,   4.,   5.,   6.,   7.,   8.,   9.,  10.,  11.,\n",
              "        12., 999.])"
            ]
          },
          "metadata": {},
          "execution_count": 11
        }
      ]
    },
    {
      "cell_type": "code",
      "source": [
        "raw_df_with_symbols = df_with_symbols[[ENTITY_COL_NAME, TEMPORAL_VAR_ID, TIME_COL_NAME, TEMPORAL_VAR_VAL]]\n",
        "new_raw_df = []\n",
        "for v_id in var_id_set:\n",
        "  raw_var_df = raw_df_with_symbols[raw_df_with_symbols[TEMPORAL_VAR_ID]==v_id]\n",
        "  raw_var_df[TEMPORAL_VAR_VAL] = (raw_var_df[TEMPORAL_VAR_VAL] - raw_var_df[TEMPORAL_VAR_VAL].mean()) / raw_var_df[TEMPORAL_VAR_VAL].std()\n",
        "  new_raw_df.append(raw_var_df)\n",
        "\n",
        "merged_raw_df = pd.concat(new_raw_df)\n",
        "merged_raw_df.head(5)"
      ],
      "metadata": {
        "colab": {
          "base_uri": "https://localhost:8080/",
          "height": 310
        },
        "id": "pTW-xEVyqFAa",
        "outputId": "eff03811-1403-4310-ec35-89438da6af80"
      },
      "execution_count": 12,
      "outputs": [
        {
          "output_type": "stream",
          "name": "stderr",
          "text": [
            "<ipython-input-12-37c11a067ccc>:5: SettingWithCopyWarning: \n",
            "A value is trying to be set on a copy of a slice from a DataFrame.\n",
            "Try using .loc[row_indexer,col_indexer] = value instead\n",
            "\n",
            "See the caveats in the documentation: https://pandas.pydata.org/pandas-docs/stable/user_guide/indexing.html#returning-a-view-versus-a-copy\n",
            "  raw_var_df[TEMPORAL_VAR_VAL] = (raw_var_df[TEMPORAL_VAR_VAL] - raw_var_df[TEMPORAL_VAR_VAL].mean()) / raw_var_df[TEMPORAL_VAR_VAL].std()\n"
          ]
        },
        {
          "output_type": "execute_result",
          "data": {
            "text/plain": [
              "   SeriesID  VarID  TimeStamp    VarVal\n",
              "0       1.0    1.0        6.0  0.159086\n",
              "1       1.0    1.0        7.0  0.159086\n",
              "2       1.0    1.0        8.0  0.159086\n",
              "3       1.0    1.0        9.0  0.393966\n",
              "4       1.0    1.0       10.0  0.393966"
            ],
            "text/html": [
              "\n",
              "  <div id=\"df-a666c4cf-6019-4aca-9b93-0fe9520cdf22\">\n",
              "    <div class=\"colab-df-container\">\n",
              "      <div>\n",
              "<style scoped>\n",
              "    .dataframe tbody tr th:only-of-type {\n",
              "        vertical-align: middle;\n",
              "    }\n",
              "\n",
              "    .dataframe tbody tr th {\n",
              "        vertical-align: top;\n",
              "    }\n",
              "\n",
              "    .dataframe thead th {\n",
              "        text-align: right;\n",
              "    }\n",
              "</style>\n",
              "<table border=\"1\" class=\"dataframe\">\n",
              "  <thead>\n",
              "    <tr style=\"text-align: right;\">\n",
              "      <th></th>\n",
              "      <th>SeriesID</th>\n",
              "      <th>VarID</th>\n",
              "      <th>TimeStamp</th>\n",
              "      <th>VarVal</th>\n",
              "    </tr>\n",
              "  </thead>\n",
              "  <tbody>\n",
              "    <tr>\n",
              "      <th>0</th>\n",
              "      <td>1.0</td>\n",
              "      <td>1.0</td>\n",
              "      <td>6.0</td>\n",
              "      <td>0.159086</td>\n",
              "    </tr>\n",
              "    <tr>\n",
              "      <th>1</th>\n",
              "      <td>1.0</td>\n",
              "      <td>1.0</td>\n",
              "      <td>7.0</td>\n",
              "      <td>0.159086</td>\n",
              "    </tr>\n",
              "    <tr>\n",
              "      <th>2</th>\n",
              "      <td>1.0</td>\n",
              "      <td>1.0</td>\n",
              "      <td>8.0</td>\n",
              "      <td>0.159086</td>\n",
              "    </tr>\n",
              "    <tr>\n",
              "      <th>3</th>\n",
              "      <td>1.0</td>\n",
              "      <td>1.0</td>\n",
              "      <td>9.0</td>\n",
              "      <td>0.393966</td>\n",
              "    </tr>\n",
              "    <tr>\n",
              "      <th>4</th>\n",
              "      <td>1.0</td>\n",
              "      <td>1.0</td>\n",
              "      <td>10.0</td>\n",
              "      <td>0.393966</td>\n",
              "    </tr>\n",
              "  </tbody>\n",
              "</table>\n",
              "</div>\n",
              "      <button class=\"colab-df-convert\" onclick=\"convertToInteractive('df-a666c4cf-6019-4aca-9b93-0fe9520cdf22')\"\n",
              "              title=\"Convert this dataframe to an interactive table.\"\n",
              "              style=\"display:none;\">\n",
              "        \n",
              "  <svg xmlns=\"http://www.w3.org/2000/svg\" height=\"24px\"viewBox=\"0 0 24 24\"\n",
              "       width=\"24px\">\n",
              "    <path d=\"M0 0h24v24H0V0z\" fill=\"none\"/>\n",
              "    <path d=\"M18.56 5.44l.94 2.06.94-2.06 2.06-.94-2.06-.94-.94-2.06-.94 2.06-2.06.94zm-11 1L8.5 8.5l.94-2.06 2.06-.94-2.06-.94L8.5 2.5l-.94 2.06-2.06.94zm10 10l.94 2.06.94-2.06 2.06-.94-2.06-.94-.94-2.06-.94 2.06-2.06.94z\"/><path d=\"M17.41 7.96l-1.37-1.37c-.4-.4-.92-.59-1.43-.59-.52 0-1.04.2-1.43.59L10.3 9.45l-7.72 7.72c-.78.78-.78 2.05 0 2.83L4 21.41c.39.39.9.59 1.41.59.51 0 1.02-.2 1.41-.59l7.78-7.78 2.81-2.81c.8-.78.8-2.07 0-2.86zM5.41 20L4 18.59l7.72-7.72 1.47 1.35L5.41 20z\"/>\n",
              "  </svg>\n",
              "      </button>\n",
              "      \n",
              "  <style>\n",
              "    .colab-df-container {\n",
              "      display:flex;\n",
              "      flex-wrap:wrap;\n",
              "      gap: 12px;\n",
              "    }\n",
              "\n",
              "    .colab-df-convert {\n",
              "      background-color: #E8F0FE;\n",
              "      border: none;\n",
              "      border-radius: 50%;\n",
              "      cursor: pointer;\n",
              "      display: none;\n",
              "      fill: #1967D2;\n",
              "      height: 32px;\n",
              "      padding: 0 0 0 0;\n",
              "      width: 32px;\n",
              "    }\n",
              "\n",
              "    .colab-df-convert:hover {\n",
              "      background-color: #E2EBFA;\n",
              "      box-shadow: 0px 1px 2px rgba(60, 64, 67, 0.3), 0px 1px 3px 1px rgba(60, 64, 67, 0.15);\n",
              "      fill: #174EA6;\n",
              "    }\n",
              "\n",
              "    [theme=dark] .colab-df-convert {\n",
              "      background-color: #3B4455;\n",
              "      fill: #D2E3FC;\n",
              "    }\n",
              "\n",
              "    [theme=dark] .colab-df-convert:hover {\n",
              "      background-color: #434B5C;\n",
              "      box-shadow: 0px 1px 3px 1px rgba(0, 0, 0, 0.15);\n",
              "      filter: drop-shadow(0px 1px 2px rgba(0, 0, 0, 0.3));\n",
              "      fill: #FFFFFF;\n",
              "    }\n",
              "  </style>\n",
              "\n",
              "      <script>\n",
              "        const buttonEl =\n",
              "          document.querySelector('#df-a666c4cf-6019-4aca-9b93-0fe9520cdf22 button.colab-df-convert');\n",
              "        buttonEl.style.display =\n",
              "          google.colab.kernel.accessAllowed ? 'block' : 'none';\n",
              "\n",
              "        async function convertToInteractive(key) {\n",
              "          const element = document.querySelector('#df-a666c4cf-6019-4aca-9b93-0fe9520cdf22');\n",
              "          const dataTable =\n",
              "            await google.colab.kernel.invokeFunction('convertToInteractive',\n",
              "                                                     [key], {});\n",
              "          if (!dataTable) return;\n",
              "\n",
              "          const docLinkHtml = 'Like what you see? Visit the ' +\n",
              "            '<a target=\"_blank\" href=https://colab.research.google.com/notebooks/data_table.ipynb>data table notebook</a>'\n",
              "            + ' to learn more about interactive tables.';\n",
              "          element.innerHTML = '';\n",
              "          dataTable['output_type'] = 'display_data';\n",
              "          await google.colab.output.renderOutput(dataTable, element);\n",
              "          const docLink = document.createElement('div');\n",
              "          docLink.innerHTML = docLinkHtml;\n",
              "          element.appendChild(docLink);\n",
              "        }\n",
              "      </script>\n",
              "    </div>\n",
              "  </div>\n",
              "  "
            ]
          },
          "metadata": {},
          "execution_count": 12
        }
      ]
    },
    {
      "cell_type": "code",
      "source": [
        "symbol_set = df_with_symbols[SYMBOL_COL_NAME].unique()\n",
        "symbol_set"
      ],
      "metadata": {
        "colab": {
          "base_uri": "https://localhost:8080/"
        },
        "id": "JOu4kWJs6B9b",
        "outputId": "e93350e9-1ad3-4564-d351-4fbfb2327815"
      },
      "execution_count": 13,
      "outputs": [
        {
          "output_type": "execute_result",
          "data": {
            "text/plain": [
              "array([  3.,   2.,   1.,   4.,   5.,   6.,   8.,   7.,   9.,  12.,  10.,\n",
              "        11.,  13.,  15.,  14.,  18.,  16.,  17.,  20.,  21.,  19.,  23.,\n",
              "        24.,  22.,  26.,  25.,  27.,  30.,  29.,  28.,  33.,  32.,  31.,\n",
              "        36.,  34.,  35., 999.])"
            ]
          },
          "metadata": {},
          "execution_count": 13
        }
      ]
    },
    {
      "cell_type": "code",
      "source": [
        "series_id_set_new = df_with_symbols[ENTITY_COL_NAME].unique()\n",
        "series_id_set_new"
      ],
      "metadata": {
        "colab": {
          "base_uri": "https://localhost:8080/"
        },
        "id": "QTNcRMGWYtNk",
        "outputId": "4bac7126-85cc-41c4-e141-d22ccc566bff"
      },
      "execution_count": 14,
      "outputs": [
        {
          "output_type": "execute_result",
          "data": {
            "text/plain": [
              "array([1.000e+00, 2.000e+00, 3.000e+00, ..., 1.484e+03, 1.512e+03,\n",
              "       1.563e+03])"
            ]
          },
          "metadata": {},
          "execution_count": 14
        }
      ]
    },
    {
      "cell_type": "markdown",
      "source": [
        "# Concat to intervals\n",
        "for each symbol, if the time interval is continuous it should be concatenated to an interval"
      ],
      "metadata": {
        "id": "imwxqkXoML43"
      }
    },
    {
      "cell_type": "code",
      "source": [
        "dict_to_df = {\n",
        "  ENTITY_COL_NAME: [],\n",
        "  TEMPORAL_VAR_ID: [],\n",
        "  SYMBOL_ID_COL_NAME: [],\n",
        "  INTERVAL_START_TIME: [],\n",
        "  INTERVAL_END_TIME: [],\n",
        "}\n",
        "for s_id in series_id_set_new:\n",
        "  for sym_id in symbol_set:\n",
        "    # for each symbol id of a series\n",
        "    df_s_sym = df_with_symbols[(df_with_symbols[ENTITY_COL_NAME]==s_id) & (df_with_symbols[SYMBOL_COL_NAME]==sym_id)].sort_values(by=TIME_COL_NAME, ascending=True)\n",
        "\n",
        "    if len(df_s_sym) == 0:  # no time points with this symbols\n",
        "      continue\n",
        "\n",
        "    start_interval_time = None\n",
        "    prev_interval_time = None\n",
        "    for index, row in df_s_sym.iterrows():  # concatination process\n",
        "      curr_time = row[TIME_COL_NAME]\n",
        "      if prev_interval_time == None:  # no interval exist yet\n",
        "        start_interval_time = curr_time\n",
        "        prev_interval_time = curr_time\n",
        "      elif curr_time == prev_interval_time + 1:  # occuring interval\n",
        "        prev_interval_time = curr_time\n",
        "      else: # finished interval\n",
        "        if start_interval_time == prev_interval_time:\n",
        "          prev_interval_time += 1\n",
        "        dict_to_df[ENTITY_COL_NAME].append(row[ENTITY_COL_NAME])\n",
        "        dict_to_df[TEMPORAL_VAR_ID].append(row[TEMPORAL_VAR_ID])\n",
        "        dict_to_df[SYMBOL_ID_COL_NAME].append(row[SYMBOL_COL_NAME])\n",
        "        dict_to_df[INTERVAL_START_TIME].append(start_interval_time)\n",
        "        dict_to_df[INTERVAL_END_TIME].append(prev_interval_time)\n",
        "        \n",
        "        # init again\n",
        "        start_interval_time = curr_time\n",
        "        prev_interval_time = curr_time\n",
        "\n",
        "    # for the last point\n",
        "    if start_interval_time == prev_interval_time:\n",
        "      prev_interval_time += 1\n",
        "    if start_interval_time == -1:\n",
        "      break\n",
        "    dict_to_df[ENTITY_COL_NAME].append(row[ENTITY_COL_NAME])\n",
        "    dict_to_df[TEMPORAL_VAR_ID].append(row[TEMPORAL_VAR_ID])\n",
        "    dict_to_df[SYMBOL_ID_COL_NAME].append(row[SYMBOL_COL_NAME])\n",
        "    dict_to_df[INTERVAL_START_TIME].append(start_interval_time)\n",
        "    dict_to_df[INTERVAL_END_TIME].append(prev_interval_time)\n",
        "\n",
        "df_c = pd.DataFrame.from_dict(dict_to_df)"
      ],
      "metadata": {
        "id": "CAp9D0CH9Hmh"
      },
      "execution_count": 15,
      "outputs": []
    },
    {
      "cell_type": "markdown",
      "source": [
        "# Split to train and test"
      ],
      "metadata": {
        "id": "lXBb8ZYEMw9Z"
      }
    },
    {
      "cell_type": "code",
      "source": [
        "entities_with_event = df_c[df_c[SYMBOL_ID_COL_NAME]==EVENT_OF_INTEREST_ID][ENTITY_COL_NAME].unique()\n",
        "entities_wihout_event = list(set(df_c[ENTITY_COL_NAME])-set(entities_with_event))"
      ],
      "metadata": {
        "id": "y-WjgYAzdase"
      },
      "execution_count": 16,
      "outputs": []
    },
    {
      "cell_type": "code",
      "source": [
        "entities_with_event = sorted(entities_with_event, key = lambda x: random.random())\n",
        "entities_wihout_event = sorted(entities_wihout_event, key = lambda x: random.random())"
      ],
      "metadata": {
        "id": "vhIddo0geH0H"
      },
      "execution_count": 17,
      "outputs": []
    },
    {
      "cell_type": "markdown",
      "source": [
        "number of entities with and without the event"
      ],
      "metadata": {
        "id": "j3ksdF_ijsNE"
      }
    },
    {
      "cell_type": "code",
      "source": [
        "len(entities_with_event), len(entities_wihout_event)"
      ],
      "metadata": {
        "colab": {
          "base_uri": "https://localhost:8080/"
        },
        "id": "eqnwsx1ZfEdf",
        "outputId": "0dba90e8-135b-435b-d20c-f1fa6ac5d67d"
      },
      "execution_count": 18,
      "outputs": [
        {
          "output_type": "execute_result",
          "data": {
            "text/plain": [
              "(235, 1495)"
            ]
          },
          "metadata": {},
          "execution_count": 18
        }
      ]
    },
    {
      "cell_type": "markdown",
      "source": [
        "entities with and without the event in the training set"
      ],
      "metadata": {
        "id": "O7u7CQVTjxRe"
      }
    },
    {
      "cell_type": "code",
      "source": [
        "with_event_to_train = int(len(entities_with_event) * PREC_TO_TRAIN)\n",
        "without_event_to_train = int(len(entities_wihout_event) * PREC_TO_TRAIN)\n",
        "\n",
        "with_event_to_train, without_event_to_train"
      ],
      "metadata": {
        "colab": {
          "base_uri": "https://localhost:8080/"
        },
        "id": "65EVgRJhM3jw",
        "outputId": "c8ca1043-1c1d-46af-d042-89904ed66ef9"
      },
      "execution_count": 19,
      "outputs": [
        {
          "output_type": "execute_result",
          "data": {
            "text/plain": [
              "(164, 1046)"
            ]
          },
          "metadata": {},
          "execution_count": 19
        }
      ]
    },
    {
      "cell_type": "markdown",
      "source": [
        "define list of entities with and without events and create new train df and test df"
      ],
      "metadata": {
        "id": "UQCw570Sj9LB"
      }
    },
    {
      "cell_type": "code",
      "source": [
        "train_entities = entities_with_event[:with_event_to_train] + entities_wihout_event[:without_event_to_train]\n",
        "test_entities = entities_with_event[with_event_to_train:] + entities_wihout_event[without_event_to_train:]"
      ],
      "metadata": {
        "id": "88oGq6ikfKDS"
      },
      "execution_count": 20,
      "outputs": []
    },
    {
      "cell_type": "code",
      "source": [
        "train_df = df_c[df_c[ENTITY_COL_NAME].isin(train_entities)].reset_index(drop=True)\n",
        "test_df = df_c[df_c[ENTITY_COL_NAME].isin(test_entities)].reset_index(drop=True)"
      ],
      "metadata": {
        "id": "amQfqGoGfAS6"
      },
      "execution_count": 21,
      "outputs": []
    },
    {
      "cell_type": "code",
      "source": [
        "train_df.to_csv(FINAL_INTERVAL_TRAIN, index=False)\n",
        "test_df.to_csv(FINAL_INTERVAL_TEST, index=False)"
      ],
      "metadata": {
        "id": "t9PZZ0ubflik"
      },
      "execution_count": 22,
      "outputs": []
    },
    {
      "cell_type": "markdown",
      "source": [
        "# Write train to KarmaLego format\n",
        "This script creates an input file for KarmaLego"
      ],
      "metadata": {
        "id": "g49knTm8OHuV"
      }
    },
    {
      "cell_type": "code",
      "source": [
        "entities_num = len(set(train_df[ENTITY_COL_NAME]))\n",
        "list_to_write = ['startToncepts', f'numberOfEntities,{entities_num}']\n",
        "entities_set = set(train_df[ENTITY_COL_NAME])\n",
        "for entity in entities_set:\n",
        "    list_to_write.append(f'{int(entity)},{int(entity)};')\n",
        "    entity_df = train_df[train_df[ENTITY_COL_NAME] == entity]\n",
        "    entity_df = entity_df.sort_values(by=[INTERVAL_START_TIME,\n",
        "                                          INTERVAL_END_TIME,\n",
        "                                          SYMBOL_ID_COL_NAME])\n",
        "    intervals_entity = ''\n",
        "    for index, row in entity_df.iterrows():\n",
        "        s_time = int(row[INTERVAL_START_TIME])\n",
        "        e_time = int(row[INTERVAL_END_TIME])\n",
        "        s_id = int(row[SYMBOL_ID_COL_NAME])\n",
        "        p_id = int(row[TEMPORAL_VAR_ID])\n",
        "        intervals_entity += f'{s_time},{e_time},{s_id},{p_id};'\n",
        "    list_to_write.append(intervals_entity)\n",
        "with open(FINAL_KL_TRAIN, 'w') as f:\n",
        "    for item in list_to_write:\n",
        "        f.write(\"%s\\n\" % item)"
      ],
      "metadata": {
        "id": "hknkjkVJ1ypX"
      },
      "execution_count": 23,
      "outputs": []
    },
    {
      "cell_type": "markdown",
      "source": [
        "check there is no overlap in the series"
      ],
      "metadata": {
        "id": "QEoWI3O-OM5M"
      }
    },
    {
      "cell_type": "code",
      "source": [
        "set(train_df[ENTITY_COL_NAME].unique()).intersection(set(test_df[ENTITY_COL_NAME].unique()))"
      ],
      "metadata": {
        "colab": {
          "base_uri": "https://localhost:8080/"
        },
        "id": "BNRa8XnIgrl4",
        "outputId": "2ef25999-f798-4cc7-efaa-3cdffb4c1fa4"
      },
      "execution_count": 24,
      "outputs": [
        {
          "output_type": "execute_result",
          "data": {
            "text/plain": [
              "set()"
            ]
          },
          "metadata": {},
          "execution_count": 24
        }
      ]
    },
    {
      "cell_type": "markdown",
      "source": [
        "# Write raw data with the class"
      ],
      "metadata": {
        "id": "sZVoyzHQOVq5"
      }
    },
    {
      "cell_type": "code",
      "source": [
        "class_df = merged_raw_df[merged_raw_df[TEMPORAL_VAR_ID]==EVENT_OF_INTEREST_ID]\n",
        "no_class = merged_raw_df[merged_raw_df[TEMPORAL_VAR_ID]!=EVENT_OF_INTEREST_ID]\n",
        "raw_train = no_class[no_class[ENTITY_COL_NAME].isin(train_entities)].reset_index(drop=True)\n",
        "raw_test = no_class[no_class[ENTITY_COL_NAME].isin(test_entities)].reset_index(drop=True)\n",
        "raw_train.to_csv(FINAL_RAW_TRAIN, index=False)\n",
        "raw_test.to_csv(FINAL_RAW_TEST, index=False)"
      ],
      "metadata": {
        "id": "tcWdHOkpsfX1"
      },
      "execution_count": 25,
      "outputs": []
    },
    {
      "cell_type": "code",
      "source": [
        "train_entities_with = entities_with_event[:with_event_to_train]\n",
        "train_entities_without = entities_wihout_event[:without_event_to_train]\n",
        "test_entities_with = entities_with_event[with_event_to_train:]\n",
        "test_entities_without = entities_wihout_event[without_event_to_train:]"
      ],
      "metadata": {
        "id": "u6kD6u5otJQt"
      },
      "execution_count": 26,
      "outputs": []
    },
    {
      "cell_type": "markdown",
      "source": [
        "create the y classes for train and then test"
      ],
      "metadata": {
        "id": "4QUoV-_Nklk7"
      }
    },
    {
      "cell_type": "code",
      "source": [
        "dict_y_train = {\n",
        "    ENTITY_COL_NAME: [],\n",
        "    CLASS_COL_NAME: []\n",
        "}\n",
        "for t in train_entities_with:\n",
        "  dict_y_train[ENTITY_COL_NAME].append(t)\n",
        "  dict_y_train[CLASS_COL_NAME].append(1)\n",
        "for t in train_entities_without:\n",
        "  dict_y_train[ENTITY_COL_NAME].append(t)\n",
        "  dict_y_train[CLASS_COL_NAME].append(0)\n",
        "\n",
        "y_train_df= pd.DataFrame.from_dict(dict_y_train)\n",
        "y_train_df.to_csv(FINAL_CLASS_TRAIN, index=False)"
      ],
      "metadata": {
        "id": "Hfs693EKsy1I"
      },
      "execution_count": 27,
      "outputs": []
    },
    {
      "cell_type": "code",
      "source": [
        "dict_y_test = {\n",
        "    ENTITY_COL_NAME: [],\n",
        "    CLASS_COL_NAME: []\n",
        "}\n",
        "for t in test_entities_with:\n",
        "  dict_y_test[ENTITY_COL_NAME].append(t)\n",
        "  dict_y_test[CLASS_COL_NAME].append(1)\n",
        "for t in test_entities_without:\n",
        "  dict_y_test[ENTITY_COL_NAME].append(t)\n",
        "  dict_y_test[CLASS_COL_NAME].append(0)\n",
        "\n",
        "y_test_df= pd.DataFrame.from_dict(dict_y_test)\n",
        "y_test_df.to_csv(FINAL_CLASS_TEST, index=False)"
      ],
      "metadata": {
        "id": "mTqA8exZuDG5"
      },
      "execution_count": 28,
      "outputs": []
    }
  ]
}